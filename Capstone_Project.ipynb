{
 "cells": [
  {
   "cell_type": "markdown",
   "metadata": {
    "editable": true,
    "tags": []
   },
   "source": [
    "# Great App on multiple platform\n",
    "### Data Engineering Capstone Project\n",
    "\n",
    "#### Project Summary\n",
    "This project consolidate multi-platform applications data from AppStore and PlayStore to find applications that perform best on multi-platform. <br/>  This also describe good developer who develop multi-platform application.\n",
    "\n",
    "The project follows the follow steps:\n",
    "* Step 1: Scope the Project and Gather Data\n",
    "* Step 2: Explore and Assess the Data\n",
    "* Step 3: Define the Data Model\n",
    "* Step 4: Run ETL to Model the Data\n",
    "* Step 5: Complete Project Write Up"
   ]
  },
  {
   "cell_type": "code",
   "execution_count": 53,
   "metadata": {
    "editable": true
   },
   "outputs": [],
   "source": [
    "import time\n",
    "from pyspark.sql import SparkSession\n",
    "from pyspark.sql.types import *\n",
    "from pyspark.sql.functions import udf, col, monotonically_increasing_id, lit, length\n",
    "import requests"
   ]
  },
  {
   "cell_type": "markdown",
   "metadata": {
    "editable": true,
    "tags": []
   },
   "source": [
    "### Step 1: Scope the Project and Gather Data\n",
    "\n",
    "#### Scope \n",
    "* We will focus only the app that consider popular. (base on number of voters, in this case higher than 10k voters) <br/>\n",
    "* For data modeling, we use star schema to reduce number of joins. <br/>\n",
    "* On serving layer, we will use serverless solution like Glue Data Catalog (table & storage) and Athena (query) </br> \n",
    "\n",
    "\n",
    "#### Describe and Gather Data \n",
    "Apple AppStore Apps <br/> \n",
    "&emsp; dataset: https://www.kaggle.com/datasets/gauthamp10/apple-appstore-apps (csv) <br/>\n",
    "&emsp; detail: dataset contains rating of apps on AppStore <br/>\n",
    "PlayStore Scraper API <br/>\n",
    "&emsp; dataset: (my github) https://github.com/doezaza12/playstore-scraper-api (json) for local host version is on branch \"local\" <br/>\n",
    "&emsp; detail: extension for app data on AppStore includes number of installers (AppStore does not display this value) <br/>\n",
    "&emsp; python-library: https://github.com/JoMingyu/google-play-scraper"
   ]
  },
  {
   "cell_type": "code",
   "execution_count": 54,
   "metadata": {
    "editable": true
   },
   "outputs": [],
   "source": [
    "class DATA_PATH:\n",
    "    APPSTORE_APP = 'appleAppData.csv'\n",
    "    PLAYSTORE_APP = 'playstore_app.parquet'\n",
    "    DEVELOPER = 'developer.parquet'\n",
    "    APP = 'app.parquet'\n",
    "    TIME = 'time.parquet'\n",
    "    GREAT_APP = 'great_app.parquet'"
   ]
  },
  {
   "cell_type": "code",
   "execution_count": 175,
   "metadata": {
    "editable": true
   },
   "outputs": [],
   "source": [
    "input_path = 'datasets'\n",
    "output_path = 'datasets'\n",
    "\n",
    "# I host playstore scraper api on my local pc\n",
    "host_name = 'http://172.17.0.2:8000'\n",
    "\n",
    "appstore_path = f'{input_path}/{DATA_PATH.APPSTORE_APP}'\n",
    "playstore_path = f'{input_path}/{DATA_PATH.PLAYSTORE_APP}'"
   ]
  },
  {
   "cell_type": "code",
   "execution_count": 56,
   "metadata": {
    "editable": true
   },
   "outputs": [],
   "source": [
    "spark = SparkSession.builder.appName('capstone').getOrCreate()"
   ]
  },
  {
   "cell_type": "code",
   "execution_count": 178,
   "metadata": {
    "editable": true
   },
   "outputs": [],
   "source": [
    "def read_appstore_data(spark: SparkSession, input_path: str):\n",
    "    '''\n",
    "    Load data from `input_path` into DataFrame\n",
    "    \n",
    "    Args:\n",
    "        spark: spark.sql.SparkSession \n",
    "            Spark session.\n",
    "        input_path: string\n",
    "            Data in csv format path.\n",
    "            \n",
    "    Returns:\n",
    "        appstore_apps_df: spark.sql.DataFrame\n",
    "            DataFrame that load from `input_path`\n",
    "    '''\n",
    "    \n",
    "    appstore_apps_schema = StructType([\n",
    "        StructField('app_id', StringType(), True),\n",
    "        StructField('app_name', StringType(), True),\n",
    "        StructField('appstore_url', StringType(), True),\n",
    "        StructField('genre', StringType(), True),\n",
    "        StructField('content_rating', StringType(), True),\n",
    "        StructField('size', StringType(), True),\n",
    "        StructField('min_ios_version', StringType(), True),\n",
    "        StructField('released_ts', StringType(), True),\n",
    "        StructField('last_updated_ts', StringType(), True),\n",
    "        StructField('version', StringType(), True),\n",
    "        StructField('price', FloatType(), True),\n",
    "        StructField('currency', StringType(), True),\n",
    "        StructField('free', BooleanType(), True),\n",
    "        StructField('developer_id', StringType(), True),\n",
    "        StructField('developer_name', StringType(), True),\n",
    "        StructField('developer_url', StringType(), True),\n",
    "        StructField('developer_website', StringType(), True),\n",
    "        StructField('rating', FloatType(), True),\n",
    "        StructField('rating_count', IntegerType(), True),\n",
    "        StructField('current_version_rating', IntegerType(), True),\n",
    "        StructField('current_version_rating_count', IntegerType(), True)\n",
    "    ])\n",
    "\n",
    "    appstore_apps_df = spark.read.csv(\n",
    "        input_path, header=True, schema=appstore_apps_schema)\n",
    "\n",
    "    return appstore_apps_df"
   ]
  },
  {
   "cell_type": "code",
   "execution_count": 58,
   "metadata": {
    "editable": true
   },
   "outputs": [],
   "source": [
    "appstore_apps_df = read_appstore_data(spark, appstore_path)"
   ]
  },
  {
   "cell_type": "code",
   "execution_count": 61,
   "metadata": {
    "editable": true
   },
   "outputs": [
    {
     "name": "stdout",
     "output_type": "stream",
     "text": [
      "root\n",
      " |-- app_id: string (nullable = true)\n",
      " |-- app_name: string (nullable = true)\n",
      " |-- appstore_url: string (nullable = true)\n",
      " |-- genre: string (nullable = true)\n",
      " |-- content_rating: string (nullable = true)\n",
      " |-- size: string (nullable = true)\n",
      " |-- min_ios_version: string (nullable = true)\n",
      " |-- released_ts: string (nullable = true)\n",
      " |-- last_updated_ts: string (nullable = true)\n",
      " |-- version: string (nullable = true)\n",
      " |-- price: float (nullable = true)\n",
      " |-- currency: string (nullable = true)\n",
      " |-- free: boolean (nullable = true)\n",
      " |-- developer_id: string (nullable = true)\n",
      " |-- developer_name: string (nullable = true)\n",
      " |-- developer_url: string (nullable = true)\n",
      " |-- developer_website: string (nullable = true)\n",
      " |-- rating: float (nullable = true)\n",
      " |-- rating_count: integer (nullable = true)\n",
      " |-- current_version_rating: integer (nullable = true)\n",
      " |-- current_version_rating_count: integer (nullable = true)\n",
      "\n"
     ]
    }
   ],
   "source": [
    "appstore_apps_df.printSchema()"
   ]
  },
  {
   "cell_type": "code",
   "execution_count": 60,
   "metadata": {
    "editable": true
   },
   "outputs": [
    {
     "data": {
      "text/plain": [
       "1230376"
      ]
     },
     "execution_count": 60,
     "metadata": {},
     "output_type": "execute_result"
    }
   ],
   "source": [
    "appstore_apps_df.count()"
   ]
  },
  {
   "cell_type": "code",
   "execution_count": 59,
   "metadata": {
    "editable": true
   },
   "outputs": [
    {
     "data": {
      "text/html": [
       "<div>\n",
       "<style scoped>\n",
       "    .dataframe tbody tr th:only-of-type {\n",
       "        vertical-align: middle;\n",
       "    }\n",
       "\n",
       "    .dataframe tbody tr th {\n",
       "        vertical-align: top;\n",
       "    }\n",
       "\n",
       "    .dataframe thead th {\n",
       "        text-align: right;\n",
       "    }\n",
       "</style>\n",
       "<table border=\"1\" class=\"dataframe\">\n",
       "  <thead>\n",
       "    <tr style=\"text-align: right;\">\n",
       "      <th></th>\n",
       "      <th>app_id</th>\n",
       "      <th>app_name</th>\n",
       "      <th>appstore_url</th>\n",
       "      <th>genre</th>\n",
       "      <th>content_rating</th>\n",
       "      <th>size</th>\n",
       "      <th>min_ios_version</th>\n",
       "      <th>released_ts</th>\n",
       "      <th>last_updated_ts</th>\n",
       "      <th>version</th>\n",
       "      <th>...</th>\n",
       "      <th>currency</th>\n",
       "      <th>free</th>\n",
       "      <th>developer_id</th>\n",
       "      <th>developer_name</th>\n",
       "      <th>developer_url</th>\n",
       "      <th>developer_website</th>\n",
       "      <th>rating</th>\n",
       "      <th>rating_count</th>\n",
       "      <th>current_version_rating</th>\n",
       "      <th>current_version_rating_count</th>\n",
       "    </tr>\n",
       "  </thead>\n",
       "  <tbody>\n",
       "    <tr>\n",
       "      <th>0</th>\n",
       "      <td>com.hkbu.arc.apaper</td>\n",
       "      <td>A+ Paper Guide</td>\n",
       "      <td>https://apps.apple.com/us/app/a-paper-guide/id...</td>\n",
       "      <td>Education</td>\n",
       "      <td>4+</td>\n",
       "      <td>21993472</td>\n",
       "      <td>8.0</td>\n",
       "      <td>2017-09-28T03:02:41Z</td>\n",
       "      <td>2018-12-21T21:30:36Z</td>\n",
       "      <td>1.1.2</td>\n",
       "      <td>...</td>\n",
       "      <td>USD</td>\n",
       "      <td>True</td>\n",
       "      <td>1375410542</td>\n",
       "      <td>HKBU ARC</td>\n",
       "      <td>https://apps.apple.com/us/developer/hkbu-arc/i...</td>\n",
       "      <td>None</td>\n",
       "      <td>0.0</td>\n",
       "      <td>0</td>\n",
       "      <td>NaN</td>\n",
       "      <td>0</td>\n",
       "    </tr>\n",
       "    <tr>\n",
       "      <th>1</th>\n",
       "      <td>com.dmitriev.abooks</td>\n",
       "      <td>A-Books</td>\n",
       "      <td>https://apps.apple.com/us/app/a-books/id103157...</td>\n",
       "      <td>Book</td>\n",
       "      <td>4+</td>\n",
       "      <td>13135872</td>\n",
       "      <td>10.0</td>\n",
       "      <td>2015-08-31T19:31:32Z</td>\n",
       "      <td>2019-07-23T20:31:09Z</td>\n",
       "      <td>1.3</td>\n",
       "      <td>...</td>\n",
       "      <td>USD</td>\n",
       "      <td>True</td>\n",
       "      <td>1031572001</td>\n",
       "      <td>Roman Dmitriev</td>\n",
       "      <td>https://apps.apple.com/us/developer/roman-dmit...</td>\n",
       "      <td>None</td>\n",
       "      <td>5.0</td>\n",
       "      <td>1</td>\n",
       "      <td>NaN</td>\n",
       "      <td>1</td>\n",
       "    </tr>\n",
       "    <tr>\n",
       "      <th>2</th>\n",
       "      <td>no.terp.abooks</td>\n",
       "      <td>A-books</td>\n",
       "      <td>https://apps.apple.com/us/app/a-books/id145702...</td>\n",
       "      <td>Book</td>\n",
       "      <td>4+</td>\n",
       "      <td>21943296</td>\n",
       "      <td>9.0</td>\n",
       "      <td>2021-04-14T07:00:00Z</td>\n",
       "      <td>2021-05-30T21:08:54Z</td>\n",
       "      <td>1.3.1</td>\n",
       "      <td>...</td>\n",
       "      <td>USD</td>\n",
       "      <td>True</td>\n",
       "      <td>1457024163</td>\n",
       "      <td>Terp AS</td>\n",
       "      <td>https://apps.apple.com/us/developer/terp-as/id...</td>\n",
       "      <td>None</td>\n",
       "      <td>0.0</td>\n",
       "      <td>0</td>\n",
       "      <td>NaN</td>\n",
       "      <td>0</td>\n",
       "    </tr>\n",
       "    <tr>\n",
       "      <th>3</th>\n",
       "      <td>fr.antoinettefleur.Book1</td>\n",
       "      <td>A-F Book #1</td>\n",
       "      <td>https://apps.apple.com/us/app/a-f-book-1/id500...</td>\n",
       "      <td>Book</td>\n",
       "      <td>4+</td>\n",
       "      <td>81851392</td>\n",
       "      <td>8.0</td>\n",
       "      <td>2012-02-10T03:40:07Z</td>\n",
       "      <td>2019-10-29T12:40:37Z</td>\n",
       "      <td>1.2</td>\n",
       "      <td>...</td>\n",
       "      <td>USD</td>\n",
       "      <td>False</td>\n",
       "      <td>439568839</td>\n",
       "      <td>i-editeur.com</td>\n",
       "      <td>https://apps.apple.com/us/developer/i-editeur-...</td>\n",
       "      <td>None</td>\n",
       "      <td>0.0</td>\n",
       "      <td>0</td>\n",
       "      <td>NaN</td>\n",
       "      <td>0</td>\n",
       "    </tr>\n",
       "    <tr>\n",
       "      <th>4</th>\n",
       "      <td>com.imonstersoft.azdictionaryios</td>\n",
       "      <td>A-Z Synonyms Dictionary</td>\n",
       "      <td>https://apps.apple.com/us/app/a-z-synonyms-dic...</td>\n",
       "      <td>Reference</td>\n",
       "      <td>4+</td>\n",
       "      <td>64692224</td>\n",
       "      <td>9.0</td>\n",
       "      <td>2020-12-16T08:00:00Z</td>\n",
       "      <td>2020-12-18T21:36:11Z</td>\n",
       "      <td>1.0.1</td>\n",
       "      <td>...</td>\n",
       "      <td>USD</td>\n",
       "      <td>True</td>\n",
       "      <td>656731821</td>\n",
       "      <td>Ngov chiheang</td>\n",
       "      <td>https://apps.apple.com/us/developer/ngov-chihe...</td>\n",
       "      <td>http://imonstersoft.com</td>\n",
       "      <td>0.0</td>\n",
       "      <td>0</td>\n",
       "      <td>NaN</td>\n",
       "      <td>0</td>\n",
       "    </tr>\n",
       "  </tbody>\n",
       "</table>\n",
       "<p>5 rows × 21 columns</p>\n",
       "</div>"
      ],
      "text/plain": [
       "                             app_id                 app_name  \\\n",
       "0               com.hkbu.arc.apaper           A+ Paper Guide   \n",
       "1               com.dmitriev.abooks                  A-Books   \n",
       "2                    no.terp.abooks                  A-books   \n",
       "3          fr.antoinettefleur.Book1              A-F Book #1   \n",
       "4  com.imonstersoft.azdictionaryios  A-Z Synonyms Dictionary   \n",
       "\n",
       "                                        appstore_url      genre  \\\n",
       "0  https://apps.apple.com/us/app/a-paper-guide/id...  Education   \n",
       "1  https://apps.apple.com/us/app/a-books/id103157...       Book   \n",
       "2  https://apps.apple.com/us/app/a-books/id145702...       Book   \n",
       "3  https://apps.apple.com/us/app/a-f-book-1/id500...       Book   \n",
       "4  https://apps.apple.com/us/app/a-z-synonyms-dic...  Reference   \n",
       "\n",
       "  content_rating      size min_ios_version           released_ts  \\\n",
       "0             4+  21993472             8.0  2017-09-28T03:02:41Z   \n",
       "1             4+  13135872            10.0  2015-08-31T19:31:32Z   \n",
       "2             4+  21943296             9.0  2021-04-14T07:00:00Z   \n",
       "3             4+  81851392             8.0  2012-02-10T03:40:07Z   \n",
       "4             4+  64692224             9.0  2020-12-16T08:00:00Z   \n",
       "\n",
       "        last_updated_ts version  ...  currency   free  developer_id  \\\n",
       "0  2018-12-21T21:30:36Z   1.1.2  ...       USD   True    1375410542   \n",
       "1  2019-07-23T20:31:09Z     1.3  ...       USD   True    1031572001   \n",
       "2  2021-05-30T21:08:54Z   1.3.1  ...       USD   True    1457024163   \n",
       "3  2019-10-29T12:40:37Z     1.2  ...       USD  False     439568839   \n",
       "4  2020-12-18T21:36:11Z   1.0.1  ...       USD   True     656731821   \n",
       "\n",
       "   developer_name                                      developer_url  \\\n",
       "0        HKBU ARC  https://apps.apple.com/us/developer/hkbu-arc/i...   \n",
       "1  Roman Dmitriev  https://apps.apple.com/us/developer/roman-dmit...   \n",
       "2         Terp AS  https://apps.apple.com/us/developer/terp-as/id...   \n",
       "3   i-editeur.com  https://apps.apple.com/us/developer/i-editeur-...   \n",
       "4   Ngov chiheang  https://apps.apple.com/us/developer/ngov-chihe...   \n",
       "\n",
       "         developer_website rating  rating_count  current_version_rating  \\\n",
       "0                     None    0.0             0                     NaN   \n",
       "1                     None    5.0             1                     NaN   \n",
       "2                     None    0.0             0                     NaN   \n",
       "3                     None    0.0             0                     NaN   \n",
       "4  http://imonstersoft.com    0.0             0                     NaN   \n",
       "\n",
       "   current_version_rating_count  \n",
       "0                             0  \n",
       "1                             1  \n",
       "2                             0  \n",
       "3                             0  \n",
       "4                             0  \n",
       "\n",
       "[5 rows x 21 columns]"
      ]
     },
     "execution_count": 59,
     "metadata": {},
     "output_type": "execute_result"
    }
   ],
   "source": [
    "appstore_apps_df.limit(5).toPandas()"
   ]
  },
  {
   "cell_type": "code",
   "execution_count": 180,
   "metadata": {
    "editable": true
   },
   "outputs": [],
   "source": [
    "def exp_backoff(host_name: str, app_name: str, max_retries=5, base_wait_time=10, max_wait_time=60):\n",
    "    '''\n",
    "    Exponetial backoff when make request to API\n",
    "    \n",
    "    Args:\n",
    "        host_name: string \n",
    "            Hostname of the target API (In this case, PlayStore Scraper API).\n",
    "            For Example, `http://localhost:8000`\n",
    "        app_name: string\n",
    "            Application name from the exist data to be searched on PlayStore.\n",
    "        max_retries: int\n",
    "            Limit number of retries when got error from response.\n",
    "        base_wait_time: int\n",
    "            Base factor to wait, it will exponentially increase when retries\n",
    "            but the wait time will not above `max_wait_time` (sec).\n",
    "        max_wait_time: int\n",
    "            Threshold maximum wait time for each retries (sec).\n",
    "\n",
    "    Returns:\n",
    "        response: [requests.Response | None]\n",
    "           Response in json from API\n",
    "    '''\n",
    "    num_retries = 0\n",
    "    while num_retries < max_retries:\n",
    "\n",
    "        # prevent double slash when make request\n",
    "        if host_name[-1] == '/':\n",
    "            host_name = host_name[:-1]\n",
    "        response = requests.get(f'{host_name}/{app_name}')\n",
    "\n",
    "        if response.status_code == 200 or response.status_code == 400:\n",
    "            return response\n",
    "\n",
    "        num_retries += 1\n",
    "        wait_time = min(base_wait_time * (2 ** num_retries), max_wait_time)\n",
    "        time.sleep(wait_time)\n",
    "\n",
    "    raise Exception('num retries exceed!')"
   ]
  },
  {
   "cell_type": "code",
   "execution_count": 181,
   "metadata": {
    "editable": true
   },
   "outputs": [],
   "source": [
    "def request_playstore_app(host_name: str, app_name: str):\n",
    "    '''\n",
    "    Search application from PlayStore by making API request\n",
    "    \n",
    "    Args:\n",
    "        host_name: string \n",
    "            Hostname of the target API (In this case, PlayStore Scraper API).\n",
    "            For Example, `http://localhost:8000`\n",
    "        app_name: string\n",
    "            Application name from the exist data to be searched on PlayStore.\n",
    "    \n",
    "    Returns:\n",
    "        response: [dict | None]\n",
    "           Response only body in dict from API\n",
    "    '''\n",
    "    try:\n",
    "        result = exp_backoff(host_name, app_name)\n",
    "    except Exception:\n",
    "        return None\n",
    "    else:\n",
    "        if result.status_code == 200 and result is not None:\n",
    "            final_result = result.json()\n",
    "            return final_result[0] if len(final_result) > 0 else None\n",
    "        return None"
   ]
  },
  {
   "cell_type": "code",
   "execution_count": 184,
   "metadata": {
    "editable": true
   },
   "outputs": [],
   "source": [
    "def load_playstore_data(spark: SparkSession, input_path: str, output_path: str, host_name: str):\n",
    "    '''\n",
    "    Load PlayStore applications data return from API into Dataframe\n",
    "    \n",
    "    Args:\n",
    "        spark: spark.sql.SparkSession \n",
    "            Spark session.\n",
    "        input_path: string\n",
    "            Data in csv format path (expect to be AppStore data path).\n",
    "        output_path: string \n",
    "            Path to write result of the DataFrame\n",
    "        host_name: string \n",
    "            Hostname of the target API (In this case, PlayStore Scraper API).\n",
    "            For Example, `http://localhost:8000`\n",
    "    \n",
    "    Returns:\n",
    "        None\n",
    "    '''\n",
    "    playstore_apps_schema = StructType([\n",
    "        StructField('appId', StringType(), True),\n",
    "        StructField('icon', StringType(), True),\n",
    "        StructField('title', StringType(), True),\n",
    "        StructField('score', FloatType(), True),\n",
    "        StructField('genre', StringType(), True),\n",
    "        StructField('price', FloatType(), True),\n",
    "        StructField('free', BooleanType(), True),\n",
    "        StructField('currency', StringType(), True),\n",
    "        StructField('developer', StringType(), True),\n",
    "        StructField('installs', StringType(), True)\n",
    "    ])\n",
    "\n",
    "    udf_request_playstore_apps = udf(\n",
    "        request_playstore_app, playstore_apps_schema)\n",
    "\n",
    "    appstore_apps_df = read_appstore_data(spark, input_path)\n",
    "    \n",
    "    # consider only popular apps (voter more than 10k)\n",
    "    target_apps_df = appstore_apps_df.filter(\n",
    "        col('rating_count') >= 10000) \\\n",
    "        .withColumn('host_name', lit(host_name)) \\\n",
    "        .select('host_name', 'app_name')\n",
    "    \n",
    "    # create new column mapping from UDF function\n",
    "    # the column `result` will contain {\n",
    "    #   'host_name': 'http://localhost:8000', (static value)\n",
    "    #   'app_name': 'ANY APP NAME' (dynamic value depends on current row)\n",
    "    # }\n",
    "    playstore_apps_df = target_apps_df.withColumn(\n",
    "        'result', udf_request_playstore_apps(col('host_name'),\n",
    "                                             col('app_name'))) \\\n",
    "        .select('result.*')\n",
    "\n",
    "    # prevent double slash key when load data to S3\n",
    "    if output_path[-1] == '/':\n",
    "        output_path = output_path[:-1]\n",
    "\n",
    "    playstore_apps_df.write.mode('overwrite').parquet(\n",
    "        f'{output_path}/{DATA_PATH.PLAYSTORE_APP}')"
   ]
  },
  {
   "cell_type": "markdown",
   "metadata": {
    "editable": true,
    "tags": []
   },
   "source": [
    "#### WARNING !!!\n",
    "This function took 4-5 hours with exp backoff API request on local (it will get so many (429) too many requests) <br/> \n",
    "when searching for 7024 records beware of activate that. <br/>\n",
    "Alternatively, I attached the dataset that get from this API in folder `datasets`"
   ]
  },
  {
   "cell_type": "code",
   "execution_count": 65,
   "metadata": {
    "editable": true
   },
   "outputs": [],
   "source": [
    "load_playstore_data(spark, appstore_path, input_path, host_name)"
   ]
  },
  {
   "cell_type": "code",
   "execution_count": 66,
   "metadata": {
    "editable": true
   },
   "outputs": [],
   "source": [
    "playstore_apps_df = spark.read.parquet(playstore_path)"
   ]
  },
  {
   "cell_type": "code",
   "execution_count": 12,
   "metadata": {
    "editable": true
   },
   "outputs": [
    {
     "name": "stdout",
     "output_type": "stream",
     "text": [
      "root\n",
      " |-- appId: string (nullable = true)\n",
      " |-- icon: string (nullable = true)\n",
      " |-- title: string (nullable = true)\n",
      " |-- score: float (nullable = true)\n",
      " |-- genre: string (nullable = true)\n",
      " |-- price: integer (nullable = true)\n",
      " |-- free: boolean (nullable = true)\n",
      " |-- currency: string (nullable = true)\n",
      " |-- developer: string (nullable = true)\n",
      " |-- installs: string (nullable = true)\n",
      "\n"
     ]
    }
   ],
   "source": [
    "playstore_apps_df.printSchema()"
   ]
  },
  {
   "cell_type": "code",
   "execution_count": 68,
   "metadata": {
    "editable": true
   },
   "outputs": [
    {
     "data": {
      "text/plain": [
       "7024"
      ]
     },
     "execution_count": 68,
     "metadata": {},
     "output_type": "execute_result"
    }
   ],
   "source": [
    "playstore_apps_df.count()"
   ]
  },
  {
   "cell_type": "code",
   "execution_count": 67,
   "metadata": {
    "editable": true
   },
   "outputs": [
    {
     "data": {
      "text/html": [
       "<div>\n",
       "<style scoped>\n",
       "    .dataframe tbody tr th:only-of-type {\n",
       "        vertical-align: middle;\n",
       "    }\n",
       "\n",
       "    .dataframe tbody tr th {\n",
       "        vertical-align: top;\n",
       "    }\n",
       "\n",
       "    .dataframe thead th {\n",
       "        text-align: right;\n",
       "    }\n",
       "</style>\n",
       "<table border=\"1\" class=\"dataframe\">\n",
       "  <thead>\n",
       "    <tr style=\"text-align: right;\">\n",
       "      <th></th>\n",
       "      <th>appId</th>\n",
       "      <th>icon</th>\n",
       "      <th>title</th>\n",
       "      <th>score</th>\n",
       "      <th>genre</th>\n",
       "      <th>price</th>\n",
       "      <th>free</th>\n",
       "      <th>currency</th>\n",
       "      <th>developer</th>\n",
       "      <th>installs</th>\n",
       "    </tr>\n",
       "  </thead>\n",
       "  <tbody>\n",
       "    <tr>\n",
       "      <th>0</th>\n",
       "      <td>com.gtarcade.ioe.global</td>\n",
       "      <td>https://play-lh.googleusercontent.com/_C3hIN6r...</td>\n",
       "      <td>Infinity Kingdom</td>\n",
       "      <td>4.532411</td>\n",
       "      <td>Strategy</td>\n",
       "      <td>NaN</td>\n",
       "      <td>True</td>\n",
       "      <td>USD</td>\n",
       "      <td>Yoozoo (Singapore) Pte. Ltd</td>\n",
       "      <td>5,000,000+</td>\n",
       "    </tr>\n",
       "    <tr>\n",
       "      <th>1</th>\n",
       "      <td>com.bartoogamecompany.ParentingChoices</td>\n",
       "      <td>https://play-lh.googleusercontent.com/sVAO0rY0...</td>\n",
       "      <td>Parenting Choices</td>\n",
       "      <td>4.265207</td>\n",
       "      <td>Role Playing</td>\n",
       "      <td>NaN</td>\n",
       "      <td>True</td>\n",
       "      <td>USD</td>\n",
       "      <td>Lion Studios</td>\n",
       "      <td>1,000,000+</td>\n",
       "    </tr>\n",
       "    <tr>\n",
       "      <th>2</th>\n",
       "      <td>com.escape.room.door.word.prison.puzzle.adventure</td>\n",
       "      <td>https://play-lh.googleusercontent.com/JyOSztxu...</td>\n",
       "      <td>Escape Room: Mystery Word</td>\n",
       "      <td>4.328164</td>\n",
       "      <td>Word</td>\n",
       "      <td>NaN</td>\n",
       "      <td>True</td>\n",
       "      <td>USD</td>\n",
       "      <td>Worzzle Team</td>\n",
       "      <td>10,000,000+</td>\n",
       "    </tr>\n",
       "    <tr>\n",
       "      <th>3</th>\n",
       "      <td>com.kayac.park_master</td>\n",
       "      <td>https://play-lh.googleusercontent.com/G73Lmcaj...</td>\n",
       "      <td>Park Master</td>\n",
       "      <td>4.061572</td>\n",
       "      <td>Puzzle</td>\n",
       "      <td>NaN</td>\n",
       "      <td>True</td>\n",
       "      <td>USD</td>\n",
       "      <td>KAYAC Inc.</td>\n",
       "      <td>100,000,000+</td>\n",
       "    </tr>\n",
       "    <tr>\n",
       "      <th>4</th>\n",
       "      <td>com.superevilmegacorp.game</td>\n",
       "      <td>https://play-lh.googleusercontent.com/4GU160K2...</td>\n",
       "      <td>Vainglory</td>\n",
       "      <td>3.542106</td>\n",
       "      <td>Strategy</td>\n",
       "      <td>NaN</td>\n",
       "      <td>True</td>\n",
       "      <td>USD</td>\n",
       "      <td>Super Evil Megacorp</td>\n",
       "      <td>10,000,000+</td>\n",
       "    </tr>\n",
       "  </tbody>\n",
       "</table>\n",
       "</div>"
      ],
      "text/plain": [
       "                                               appId  \\\n",
       "0                            com.gtarcade.ioe.global   \n",
       "1             com.bartoogamecompany.ParentingChoices   \n",
       "2  com.escape.room.door.word.prison.puzzle.adventure   \n",
       "3                              com.kayac.park_master   \n",
       "4                         com.superevilmegacorp.game   \n",
       "\n",
       "                                                icon  \\\n",
       "0  https://play-lh.googleusercontent.com/_C3hIN6r...   \n",
       "1  https://play-lh.googleusercontent.com/sVAO0rY0...   \n",
       "2  https://play-lh.googleusercontent.com/JyOSztxu...   \n",
       "3  https://play-lh.googleusercontent.com/G73Lmcaj...   \n",
       "4  https://play-lh.googleusercontent.com/4GU160K2...   \n",
       "\n",
       "                       title     score         genre  price  free currency  \\\n",
       "0           Infinity Kingdom  4.532411      Strategy    NaN  True      USD   \n",
       "1          Parenting Choices  4.265207  Role Playing    NaN  True      USD   \n",
       "2  Escape Room: Mystery Word  4.328164          Word    NaN  True      USD   \n",
       "3                Park Master  4.061572        Puzzle    NaN  True      USD   \n",
       "4                  Vainglory  3.542106      Strategy    NaN  True      USD   \n",
       "\n",
       "                     developer      installs  \n",
       "0  Yoozoo (Singapore) Pte. Ltd    5,000,000+  \n",
       "1                 Lion Studios    1,000,000+  \n",
       "2                 Worzzle Team   10,000,000+  \n",
       "3                   KAYAC Inc.  100,000,000+  \n",
       "4          Super Evil Megacorp   10,000,000+  "
      ]
     },
     "execution_count": 67,
     "metadata": {},
     "output_type": "execute_result"
    }
   ],
   "source": [
    "playstore_apps_df.limit(5).toPandas()"
   ]
  },
  {
   "cell_type": "markdown",
   "metadata": {
    "editable": true,
    "tags": []
   },
   "source": [
    "### Step 2: Explore and Assess the Data"
   ]
  },
  {
   "cell_type": "markdown",
   "metadata": {
    "editable": true,
    "tags": []
   },
   "source": [
    "#### Explore the Data \n",
    "Identify data quality issues, like missing values, duplicate data, etc."
   ]
  },
  {
   "cell_type": "code",
   "execution_count": 82,
   "metadata": {
    "editable": true
   },
   "outputs": [
    {
     "data": {
      "text/html": [
       "<div>\n",
       "<style scoped>\n",
       "    .dataframe tbody tr th:only-of-type {\n",
       "        vertical-align: middle;\n",
       "    }\n",
       "\n",
       "    .dataframe tbody tr th {\n",
       "        vertical-align: top;\n",
       "    }\n",
       "\n",
       "    .dataframe thead th {\n",
       "        text-align: right;\n",
       "    }\n",
       "</style>\n",
       "<table border=\"1\" class=\"dataframe\">\n",
       "  <thead>\n",
       "    <tr style=\"text-align: right;\">\n",
       "      <th></th>\n",
       "      <th>appId</th>\n",
       "      <th>icon</th>\n",
       "      <th>title</th>\n",
       "      <th>score</th>\n",
       "      <th>genre</th>\n",
       "      <th>price</th>\n",
       "      <th>free</th>\n",
       "      <th>currency</th>\n",
       "      <th>developer</th>\n",
       "      <th>installs</th>\n",
       "    </tr>\n",
       "  </thead>\n",
       "  <tbody>\n",
       "    <tr>\n",
       "      <th>0</th>\n",
       "      <td>com.robtopx.geometryjump</td>\n",
       "      <td>https://play-lh.googleusercontent.com/ixHXzBWP...</td>\n",
       "      <td>Geometry Dash</td>\n",
       "      <td>4.678029</td>\n",
       "      <td>Arcade</td>\n",
       "      <td>1.99</td>\n",
       "      <td>False</td>\n",
       "      <td>USD</td>\n",
       "      <td>RobTop Games</td>\n",
       "      <td>5,000,000+</td>\n",
       "    </tr>\n",
       "    <tr>\n",
       "      <th>1</th>\n",
       "      <td>isquaresoft.NewJumpPoke</td>\n",
       "      <td>https://play-lh.googleusercontent.com/caOQ42sg...</td>\n",
       "      <td>Sports : 3D Jump Rope</td>\n",
       "      <td>NaN</td>\n",
       "      <td>Casual</td>\n",
       "      <td>0.99</td>\n",
       "      <td>False</td>\n",
       "      <td>USD</td>\n",
       "      <td>I square software</td>\n",
       "      <td>1+</td>\n",
       "    </tr>\n",
       "    <tr>\n",
       "      <th>2</th>\n",
       "      <td>com.playdekgames.waterdeep</td>\n",
       "      <td>https://play-lh.googleusercontent.com/fiefKZ5O...</td>\n",
       "      <td>D&amp;D Lords of Waterdeep</td>\n",
       "      <td>3.782178</td>\n",
       "      <td>Board</td>\n",
       "      <td>6.99</td>\n",
       "      <td>False</td>\n",
       "      <td>USD</td>\n",
       "      <td>Playdek, Inc.</td>\n",
       "      <td>50,000+</td>\n",
       "    </tr>\n",
       "    <tr>\n",
       "      <th>3</th>\n",
       "      <td>com.tapuniverse.removeobjects</td>\n",
       "      <td>https://play-lh.googleusercontent.com/RQ7kvq-B...</td>\n",
       "      <td>Remove Objects: Object Remover</td>\n",
       "      <td>4.666667</td>\n",
       "      <td>Art &amp; Design</td>\n",
       "      <td>2.99</td>\n",
       "      <td>False</td>\n",
       "      <td>USD</td>\n",
       "      <td>TAPUNIVERSE</td>\n",
       "      <td>500+</td>\n",
       "    </tr>\n",
       "    <tr>\n",
       "      <th>4</th>\n",
       "      <td>nz.co.activedevelopment.picframe_android</td>\n",
       "      <td>https://play-lh.googleusercontent.com/nO7BCDXv...</td>\n",
       "      <td>PicFrame</td>\n",
       "      <td>4.088372</td>\n",
       "      <td>Photography</td>\n",
       "      <td>0.99</td>\n",
       "      <td>False</td>\n",
       "      <td>USD</td>\n",
       "      <td>Active Development</td>\n",
       "      <td>100,000+</td>\n",
       "    </tr>\n",
       "  </tbody>\n",
       "</table>\n",
       "</div>"
      ],
      "text/plain": [
       "                                      appId  \\\n",
       "0                  com.robtopx.geometryjump   \n",
       "1                   isquaresoft.NewJumpPoke   \n",
       "2                com.playdekgames.waterdeep   \n",
       "3             com.tapuniverse.removeobjects   \n",
       "4  nz.co.activedevelopment.picframe_android   \n",
       "\n",
       "                                                icon  \\\n",
       "0  https://play-lh.googleusercontent.com/ixHXzBWP...   \n",
       "1  https://play-lh.googleusercontent.com/caOQ42sg...   \n",
       "2  https://play-lh.googleusercontent.com/fiefKZ5O...   \n",
       "3  https://play-lh.googleusercontent.com/RQ7kvq-B...   \n",
       "4  https://play-lh.googleusercontent.com/nO7BCDXv...   \n",
       "\n",
       "                            title     score         genre  price   free  \\\n",
       "0                   Geometry Dash  4.678029        Arcade   1.99  False   \n",
       "1           Sports : 3D Jump Rope       NaN        Casual   0.99  False   \n",
       "2          D&D Lords of Waterdeep  3.782178         Board   6.99  False   \n",
       "3  Remove Objects: Object Remover  4.666667  Art & Design   2.99  False   \n",
       "4                        PicFrame  4.088372   Photography   0.99  False   \n",
       "\n",
       "  currency           developer    installs  \n",
       "0      USD        RobTop Games  5,000,000+  \n",
       "1      USD   I square software          1+  \n",
       "2      USD       Playdek, Inc.     50,000+  \n",
       "3      USD         TAPUNIVERSE        500+  \n",
       "4      USD  Active Development    100,000+  "
      ]
     },
     "execution_count": 82,
     "metadata": {},
     "output_type": "execute_result"
    }
   ],
   "source": [
    "playstore_apps_df.filter(col('free') == False).limit(5).toPandas()"
   ]
  },
  {
   "cell_type": "markdown",
   "metadata": {
    "editable": true
   },
   "source": [
    "##### From 2 above DataFrames, we saw that there is NaN value on `price` and `score` columns <br/>\n",
    "This look like FloatType cannot convert 0 (in integer form) to 0.00 (float form) <br/>\n",
    "so fill NaN value with 0 is an appropriate value."
   ]
  },
  {
   "cell_type": "code",
   "execution_count": 98,
   "metadata": {
    "editable": true
   },
   "outputs": [],
   "source": [
    "playstore_apps_df = playstore_apps_df.fillna(0, ['price', 'score'])"
   ]
  },
  {
   "cell_type": "code",
   "execution_count": 99,
   "metadata": {
    "editable": true
   },
   "outputs": [
    {
     "data": {
      "text/plain": [
       "0"
      ]
     },
     "execution_count": 99,
     "metadata": {},
     "output_type": "execute_result"
    }
   ],
   "source": [
    "playstore_apps_df.filter(col('price').isNull() | col('score').isNull()).count()"
   ]
  },
  {
   "cell_type": "code",
   "execution_count": 91,
   "metadata": {
    "editable": true
   },
   "outputs": [],
   "source": [
    "target_apps_df = appstore_apps_df.filter(\n",
    "                    col('rating_count') >= 10000) \\\n",
    "                    .select('*')"
   ]
  },
  {
   "cell_type": "code",
   "execution_count": 73,
   "metadata": {
    "editable": true
   },
   "outputs": [
    {
     "data": {
      "text/plain": [
       "7024"
      ]
     },
     "execution_count": 73,
     "metadata": {},
     "output_type": "execute_result"
    }
   ],
   "source": [
    "target_apps_df.count()"
   ]
  },
  {
   "cell_type": "code",
   "execution_count": 71,
   "metadata": {
    "editable": true
   },
   "outputs": [
    {
     "data": {
      "text/html": [
       "<div>\n",
       "<style scoped>\n",
       "    .dataframe tbody tr th:only-of-type {\n",
       "        vertical-align: middle;\n",
       "    }\n",
       "\n",
       "    .dataframe tbody tr th {\n",
       "        vertical-align: top;\n",
       "    }\n",
       "\n",
       "    .dataframe thead th {\n",
       "        text-align: right;\n",
       "    }\n",
       "</style>\n",
       "<table border=\"1\" class=\"dataframe\">\n",
       "  <thead>\n",
       "    <tr style=\"text-align: right;\">\n",
       "      <th></th>\n",
       "      <th>app_id</th>\n",
       "      <th>app_name</th>\n",
       "      <th>appstore_url</th>\n",
       "      <th>genre</th>\n",
       "      <th>content_rating</th>\n",
       "      <th>size</th>\n",
       "      <th>min_ios_version</th>\n",
       "      <th>released_ts</th>\n",
       "      <th>last_updated_ts</th>\n",
       "      <th>version</th>\n",
       "      <th>...</th>\n",
       "      <th>currency</th>\n",
       "      <th>free</th>\n",
       "      <th>developer_id</th>\n",
       "      <th>developer_name</th>\n",
       "      <th>developer_url</th>\n",
       "      <th>developer_website</th>\n",
       "      <th>rating</th>\n",
       "      <th>rating_count</th>\n",
       "      <th>current_version_rating</th>\n",
       "      <th>current_version_rating_count</th>\n",
       "    </tr>\n",
       "  </thead>\n",
       "  <tbody>\n",
       "    <tr>\n",
       "      <th>0</th>\n",
       "      <td>org.reactjs.native.Inkitt.App.Colt</td>\n",
       "      <td>GALATEA - Addictive Stories</td>\n",
       "      <td>https://apps.apple.com/us/app/galatea-addictiv...</td>\n",
       "      <td>Book</td>\n",
       "      <td>17+</td>\n",
       "      <td>77215744</td>\n",
       "      <td>11.0</td>\n",
       "      <td>2018-05-14T17:52:01Z</td>\n",
       "      <td>2021-10-12T22:10:09Z</td>\n",
       "      <td>4.9.30</td>\n",
       "      <td>...</td>\n",
       "      <td>USD</td>\n",
       "      <td>True</td>\n",
       "      <td>1033598730</td>\n",
       "      <td>Inkitt</td>\n",
       "      <td>https://apps.apple.com/us/developer/inkitt/id1...</td>\n",
       "      <td>https://galateastories.com/</td>\n",
       "      <td>4.49108</td>\n",
       "      <td>46823</td>\n",
       "      <td>NaN</td>\n",
       "      <td>46823</td>\n",
       "    </tr>\n",
       "    <tr>\n",
       "      <th>1</th>\n",
       "      <td>com.nanobitsoftware.taboo</td>\n",
       "      <td>Tabou Stories: Love Episodes</td>\n",
       "      <td>https://apps.apple.com/us/app/tabou-stories-lo...</td>\n",
       "      <td>Games</td>\n",
       "      <td>17+</td>\n",
       "      <td>232010752</td>\n",
       "      <td>12.0</td>\n",
       "      <td>2020-01-31T08:00:00Z</td>\n",
       "      <td>2021-09-28T12:03:36Z</td>\n",
       "      <td>1.10.1</td>\n",
       "      <td>...</td>\n",
       "      <td>USD</td>\n",
       "      <td>True</td>\n",
       "      <td>307749755</td>\n",
       "      <td>nanobitsoftware.com</td>\n",
       "      <td>https://apps.apple.com/us/developer/nanobitsof...</td>\n",
       "      <td>https://www.nanobit.com/</td>\n",
       "      <td>4.66497</td>\n",
       "      <td>60681</td>\n",
       "      <td>NaN</td>\n",
       "      <td>60681</td>\n",
       "    </tr>\n",
       "    <tr>\n",
       "      <th>2</th>\n",
       "      <td>com.radishfiction.app</td>\n",
       "      <td>Radish Fiction</td>\n",
       "      <td>https://apps.apple.com/us/app/radish-fiction/i...</td>\n",
       "      <td>Book</td>\n",
       "      <td>17+</td>\n",
       "      <td>59652096</td>\n",
       "      <td>11.0</td>\n",
       "      <td>2016-02-14T02:34:42Z</td>\n",
       "      <td>2021-09-23T01:32:22Z</td>\n",
       "      <td>3.24.0</td>\n",
       "      <td>...</td>\n",
       "      <td>USD</td>\n",
       "      <td>True</td>\n",
       "      <td>1076491464</td>\n",
       "      <td>Radish Media</td>\n",
       "      <td>https://apps.apple.com/us/developer/radish-med...</td>\n",
       "      <td>https://radishfiction.com</td>\n",
       "      <td>4.57083</td>\n",
       "      <td>31090</td>\n",
       "      <td>NaN</td>\n",
       "      <td>31090</td>\n",
       "    </tr>\n",
       "    <tr>\n",
       "      <th>3</th>\n",
       "      <td>com.safariflow.SafariQueue</td>\n",
       "      <td>O'Reilly</td>\n",
       "      <td>https://apps.apple.com/us/app/oreilly/id881697...</td>\n",
       "      <td>Education</td>\n",
       "      <td>4+</td>\n",
       "      <td>39051264</td>\n",
       "      <td>13.0</td>\n",
       "      <td>2014-11-14T23:02:42Z</td>\n",
       "      <td>2021-10-04T16:40:39Z</td>\n",
       "      <td>6.5.0</td>\n",
       "      <td>...</td>\n",
       "      <td>USD</td>\n",
       "      <td>True</td>\n",
       "      <td>312570215</td>\n",
       "      <td>O'Reilly Media, Inc.</td>\n",
       "      <td>https://apps.apple.com/us/developer/oreilly-me...</td>\n",
       "      <td>http://www.oreilly.com/</td>\n",
       "      <td>4.68119</td>\n",
       "      <td>23980</td>\n",
       "      <td>NaN</td>\n",
       "      <td>23980</td>\n",
       "    </tr>\n",
       "    <tr>\n",
       "      <th>4</th>\n",
       "      <td>com.science-inc.Yarn</td>\n",
       "      <td>Yarn - Chat &amp; Text Stories</td>\n",
       "      <td>https://apps.apple.com/us/app/yarn-chat-text-s...</td>\n",
       "      <td>Book</td>\n",
       "      <td>17+</td>\n",
       "      <td>95781888</td>\n",
       "      <td>11.0</td>\n",
       "      <td>2017-02-09T19:19:05Z</td>\n",
       "      <td>2021-05-28T22:06:12Z</td>\n",
       "      <td>10.0.1</td>\n",
       "      <td>...</td>\n",
       "      <td>USD</td>\n",
       "      <td>True</td>\n",
       "      <td>969791636</td>\n",
       "      <td>Science Mobile, LLC</td>\n",
       "      <td>https://apps.apple.com/us/developer/science-mo...</td>\n",
       "      <td>https://mammoth.la/apps/moreinfo/</td>\n",
       "      <td>3.31739</td>\n",
       "      <td>25744</td>\n",
       "      <td>NaN</td>\n",
       "      <td>25744</td>\n",
       "    </tr>\n",
       "  </tbody>\n",
       "</table>\n",
       "<p>5 rows × 21 columns</p>\n",
       "</div>"
      ],
      "text/plain": [
       "                               app_id                      app_name  \\\n",
       "0  org.reactjs.native.Inkitt.App.Colt   GALATEA - Addictive Stories   \n",
       "1           com.nanobitsoftware.taboo  Tabou Stories: Love Episodes   \n",
       "2               com.radishfiction.app                Radish Fiction   \n",
       "3          com.safariflow.SafariQueue                      O'Reilly   \n",
       "4                com.science-inc.Yarn    Yarn - Chat & Text Stories   \n",
       "\n",
       "                                        appstore_url      genre  \\\n",
       "0  https://apps.apple.com/us/app/galatea-addictiv...       Book   \n",
       "1  https://apps.apple.com/us/app/tabou-stories-lo...      Games   \n",
       "2  https://apps.apple.com/us/app/radish-fiction/i...       Book   \n",
       "3  https://apps.apple.com/us/app/oreilly/id881697...  Education   \n",
       "4  https://apps.apple.com/us/app/yarn-chat-text-s...       Book   \n",
       "\n",
       "  content_rating       size min_ios_version           released_ts  \\\n",
       "0            17+   77215744            11.0  2018-05-14T17:52:01Z   \n",
       "1            17+  232010752            12.0  2020-01-31T08:00:00Z   \n",
       "2            17+   59652096            11.0  2016-02-14T02:34:42Z   \n",
       "3             4+   39051264            13.0  2014-11-14T23:02:42Z   \n",
       "4            17+   95781888            11.0  2017-02-09T19:19:05Z   \n",
       "\n",
       "        last_updated_ts version  ...  currency  free  developer_id  \\\n",
       "0  2021-10-12T22:10:09Z  4.9.30  ...       USD  True    1033598730   \n",
       "1  2021-09-28T12:03:36Z  1.10.1  ...       USD  True     307749755   \n",
       "2  2021-09-23T01:32:22Z  3.24.0  ...       USD  True    1076491464   \n",
       "3  2021-10-04T16:40:39Z   6.5.0  ...       USD  True     312570215   \n",
       "4  2021-05-28T22:06:12Z  10.0.1  ...       USD  True     969791636   \n",
       "\n",
       "         developer_name                                      developer_url  \\\n",
       "0                Inkitt  https://apps.apple.com/us/developer/inkitt/id1...   \n",
       "1   nanobitsoftware.com  https://apps.apple.com/us/developer/nanobitsof...   \n",
       "2          Radish Media  https://apps.apple.com/us/developer/radish-med...   \n",
       "3  O'Reilly Media, Inc.  https://apps.apple.com/us/developer/oreilly-me...   \n",
       "4   Science Mobile, LLC  https://apps.apple.com/us/developer/science-mo...   \n",
       "\n",
       "                   developer_website   rating  rating_count  \\\n",
       "0        https://galateastories.com/  4.49108         46823   \n",
       "1           https://www.nanobit.com/  4.66497         60681   \n",
       "2          https://radishfiction.com  4.57083         31090   \n",
       "3            http://www.oreilly.com/  4.68119         23980   \n",
       "4  https://mammoth.la/apps/moreinfo/  3.31739         25744   \n",
       "\n",
       "   current_version_rating  current_version_rating_count  \n",
       "0                     NaN                         46823  \n",
       "1                     NaN                         60681  \n",
       "2                     NaN                         31090  \n",
       "3                     NaN                         23980  \n",
       "4                     NaN                         25744  \n",
       "\n",
       "[5 rows x 21 columns]"
      ]
     },
     "execution_count": 71,
     "metadata": {},
     "output_type": "execute_result"
    }
   ],
   "source": [
    "target_apps_df.limit(5).toPandas()"
   ]
  },
  {
   "cell_type": "code",
   "execution_count": 94,
   "metadata": {
    "editable": true
   },
   "outputs": [
    {
     "data": {
      "text/html": [
       "<div>\n",
       "<style scoped>\n",
       "    .dataframe tbody tr th:only-of-type {\n",
       "        vertical-align: middle;\n",
       "    }\n",
       "\n",
       "    .dataframe tbody tr th {\n",
       "        vertical-align: top;\n",
       "    }\n",
       "\n",
       "    .dataframe thead th {\n",
       "        text-align: right;\n",
       "    }\n",
       "</style>\n",
       "<table border=\"1\" class=\"dataframe\">\n",
       "  <thead>\n",
       "    <tr style=\"text-align: right;\">\n",
       "      <th></th>\n",
       "      <th>app_name</th>\n",
       "      <th>price</th>\n",
       "      <th>free</th>\n",
       "    </tr>\n",
       "  </thead>\n",
       "  <tbody>\n",
       "    <tr>\n",
       "      <th>0</th>\n",
       "      <td>NBA 2K21 Arcade Edition</td>\n",
       "      <td>NaN</td>\n",
       "      <td>False</td>\n",
       "    </tr>\n",
       "    <tr>\n",
       "      <th>1</th>\n",
       "      <td>LEGO® Brawls</td>\n",
       "      <td>NaN</td>\n",
       "      <td>False</td>\n",
       "    </tr>\n",
       "    <tr>\n",
       "      <th>2</th>\n",
       "      <td>Patterned</td>\n",
       "      <td>NaN</td>\n",
       "      <td>False</td>\n",
       "    </tr>\n",
       "    <tr>\n",
       "      <th>3</th>\n",
       "      <td>Solitaire by MobilityWare +</td>\n",
       "      <td>NaN</td>\n",
       "      <td>False</td>\n",
       "    </tr>\n",
       "    <tr>\n",
       "      <th>4</th>\n",
       "      <td>SongPop Party</td>\n",
       "      <td>NaN</td>\n",
       "      <td>False</td>\n",
       "    </tr>\n",
       "  </tbody>\n",
       "</table>\n",
       "</div>"
      ],
      "text/plain": [
       "                      app_name  price   free\n",
       "0      NBA 2K21 Arcade Edition    NaN  False\n",
       "1                 LEGO® Brawls    NaN  False\n",
       "2                    Patterned    NaN  False\n",
       "3  Solitaire by MobilityWare +    NaN  False\n",
       "4                SongPop Party    NaN  False"
      ]
     },
     "execution_count": 94,
     "metadata": {},
     "output_type": "execute_result"
    }
   ],
   "source": [
    "target_apps_df.filter(col('price').isNull()).select('app_name', 'price', 'free').limit(5).toPandas()"
   ]
  },
  {
   "cell_type": "code",
   "execution_count": 95,
   "metadata": {
    "editable": true
   },
   "outputs": [
    {
     "data": {
      "text/html": [
       "<div>\n",
       "<style scoped>\n",
       "    .dataframe tbody tr th:only-of-type {\n",
       "        vertical-align: middle;\n",
       "    }\n",
       "\n",
       "    .dataframe tbody tr th {\n",
       "        vertical-align: top;\n",
       "    }\n",
       "\n",
       "    .dataframe thead th {\n",
       "        text-align: right;\n",
       "    }\n",
       "</style>\n",
       "<table border=\"1\" class=\"dataframe\">\n",
       "  <thead>\n",
       "    <tr style=\"text-align: right;\">\n",
       "      <th></th>\n",
       "      <th>app_name</th>\n",
       "      <th>price</th>\n",
       "      <th>free</th>\n",
       "    </tr>\n",
       "  </thead>\n",
       "  <tbody>\n",
       "    <tr>\n",
       "      <th>0</th>\n",
       "      <td>Jesus Calling Devotional</td>\n",
       "      <td>9.99</td>\n",
       "      <td>False</td>\n",
       "    </tr>\n",
       "    <tr>\n",
       "      <th>1</th>\n",
       "      <td>Hidden Folks</td>\n",
       "      <td>4.99</td>\n",
       "      <td>False</td>\n",
       "    </tr>\n",
       "    <tr>\n",
       "      <th>2</th>\n",
       "      <td>Merriam-Webster Dictionary+</td>\n",
       "      <td>9.99</td>\n",
       "      <td>False</td>\n",
       "    </tr>\n",
       "    <tr>\n",
       "      <th>3</th>\n",
       "      <td>Fax from iPhone - Send Fax App</td>\n",
       "      <td>3.99</td>\n",
       "      <td>False</td>\n",
       "    </tr>\n",
       "    <tr>\n",
       "      <th>4</th>\n",
       "      <td>CamScanner + | OCR Scanner</td>\n",
       "      <td>0.99</td>\n",
       "      <td>False</td>\n",
       "    </tr>\n",
       "  </tbody>\n",
       "</table>\n",
       "</div>"
      ],
      "text/plain": [
       "                         app_name  price   free\n",
       "0        Jesus Calling Devotional   9.99  False\n",
       "1                    Hidden Folks   4.99  False\n",
       "2     Merriam-Webster Dictionary+   9.99  False\n",
       "3  Fax from iPhone - Send Fax App   3.99  False\n",
       "4      CamScanner + | OCR Scanner   0.99  False"
      ]
     },
     "execution_count": 95,
     "metadata": {},
     "output_type": "execute_result"
    }
   ],
   "source": [
    "target_apps_df.filter(col('price').isNotNull() & col('free') == False).select('app_name', 'price', 'free').limit(5).toPandas()"
   ]
  },
  {
   "cell_type": "code",
   "execution_count": 96,
   "metadata": {
    "editable": true
   },
   "outputs": [
    {
     "data": {
      "text/plain": [
       "0"
      ]
     },
     "execution_count": 96,
     "metadata": {},
     "output_type": "execute_result"
    }
   ],
   "source": [
    "target_apps_df.filter(col('rating').isNull()).count()"
   ]
  },
  {
   "cell_type": "code",
   "execution_count": 101,
   "metadata": {
    "editable": true
   },
   "outputs": [],
   "source": [
    "target_apps_df = target_apps_df.fillna(0, ['price'])"
   ]
  },
  {
   "cell_type": "markdown",
   "metadata": {
    "editable": true
   },
   "source": [
    "#### Cleaning Steps\n",
    "We try dropDuplicates value because there is a chance that API will return search result not accurately."
   ]
  },
  {
   "cell_type": "code",
   "execution_count": 102,
   "metadata": {
    "editable": true
   },
   "outputs": [
    {
     "data": {
      "text/plain": [
       "True"
      ]
     },
     "execution_count": 102,
     "metadata": {},
     "output_type": "execute_result"
    }
   ],
   "source": [
    "target_apps_df.count() == playstore_apps_df.count()"
   ]
  },
  {
   "cell_type": "code",
   "execution_count": 103,
   "metadata": {
    "editable": true
   },
   "outputs": [],
   "source": [
    "# Performing cleaning tasks\n",
    "appstore_apps_df = target_apps_df.dropDuplicates()\n",
    "playstore_apps_df = playstore_apps_df.dropDuplicates()"
   ]
  },
  {
   "cell_type": "code",
   "execution_count": 162,
   "metadata": {
    "editable": true
   },
   "outputs": [
    {
     "data": {
      "text/plain": [
       "7024"
      ]
     },
     "execution_count": 162,
     "metadata": {},
     "output_type": "execute_result"
    }
   ],
   "source": [
    "appstore_apps_df.count()"
   ]
  },
  {
   "cell_type": "markdown",
   "metadata": {
    "editable": true
   },
   "source": [
    "look like we got some duplicate data (7024-6494) = 530 duplicate records before cleaning <br/>\n",
    "there is a chance it lost because max_retries of API requests is exceed, if so it will return None record."
   ]
  },
  {
   "cell_type": "code",
   "execution_count": 105,
   "metadata": {
    "editable": true
   },
   "outputs": [
    {
     "data": {
      "text/plain": [
       "6494"
      ]
     },
     "execution_count": 105,
     "metadata": {},
     "output_type": "execute_result"
    }
   ],
   "source": [
    "playstore_apps_df.count()"
   ]
  },
  {
   "cell_type": "markdown",
   "metadata": {
    "editable": true,
    "tags": []
   },
   "source": [
    "### Step 3: Define the Data Model\n",
    "#### 3.1 Conceptual Data Model\n",
    "\n",
    "<img src=\"images/udacity-datamodeling-staging.drawio.png\">\n",
    "<img src=\"images/udacity-datamodeling-fact-dimension.drawio.png\">\n",
    "\n",
    "#### 3.2 Mapping Out Data Pipelines\n",
    "\n",
    "<img src=\"images/udacity-datamodeling-ingest-pipeline.drawio.png\">"
   ]
  },
  {
   "cell_type": "markdown",
   "metadata": {
    "editable": true,
    "tags": []
   },
   "source": [
    "### Step 4: Run Pipelines to Model the Data \n",
    "#### 4.1 Create the data model\n",
    "Build the data pipelines to create the data model."
   ]
  },
  {
   "cell_type": "code",
   "execution_count": 188,
   "metadata": {
    "editable": true
   },
   "outputs": [],
   "source": [
    "def process_app_data(spark: SparkSession, appstore_path: str, playstore_path: str, output_path: str):\n",
    "    '''\n",
    "    Processing data to create Fact & Dimension tables\n",
    "    \n",
    "    Args:\n",
    "        spark: spark.sql.SparkSession \n",
    "            Spark session.\n",
    "        appstore_path: string\n",
    "            Data in csv format path (expect to be AppStore data path).\n",
    "        playstore_path: string\n",
    "            Data in parquet format path (expect to be PlayStore data path).\n",
    "        output_path: string \n",
    "            Path to write result of the DataFrame\n",
    "    \n",
    "    Returns:\n",
    "        None\n",
    "    '''\n",
    "    # read data into dataframe\n",
    "    appstore_apps_df = read_appstore_data(spark, appstore_path)\n",
    "    playstore_apps_df = spark.read.parquet(playstore_path)\n",
    "    \n",
    "    # filter target data\n",
    "    appstore_apps_df = appstore_apps_df.filter(col('rating_count') >= 10000)\n",
    "    \n",
    "    # cleaning staging data\n",
    "    appstore_apps_df = appstore_apps_df.fillna(0, ['price']).dropDuplicates()\n",
    "    playstore_apps_df = playstore_apps_df.fillna(0, ['price', 'score']).dropDuplicates()\n",
    "\n",
    "    # prevent double slash key when load data to S3\n",
    "    if output_path[-1] == '/':\n",
    "        output_path = output_path[:-1]\n",
    "\n",
    "    # construct developer dimension table\n",
    "    cols = ['developer_id',\n",
    "            'developer_name AS name',\n",
    "            'developer_url AS url',\n",
    "            'developer_website AS website',\n",
    "            'CASE WHEN developer IS NOT NULL THEN TRUE ELSE FALSE END AS multi_platform']\n",
    "\n",
    "    developers_df = appstore_apps_df.join(playstore_apps_df,\n",
    "                                          col('developer') == col('developer_name'), 'left') \\\n",
    "        .selectExpr(*cols).dropDuplicates(subset=['developer_id'])\n",
    "\n",
    "    # load data into S3\n",
    "    developers_df.write.mode('overwrite').parquet(\n",
    "        f'{output_path}/{DATA_PATH.DEVELOPER}')\n",
    "\n",
    "    # construct app dimension table\n",
    "    cols = ['as.app_id AS appstore_app_id',\n",
    "            'ps.appId AS playstore_app_id',\n",
    "            'as.app_name AS title',\n",
    "            'as.genre', 'as.content_rating',\n",
    "            'as.size',\n",
    "            'as.price',\n",
    "            'as.currency',\n",
    "            'as.free',\n",
    "            'as.rating AS appstore_rating',\n",
    "            'ps.score AS playstore_rating',\n",
    "            'as.rating_count AS rating_count_on_ios',\n",
    "            'ps.installs']\n",
    "\n",
    "    as_df = appstore_apps_df.alias('as')\n",
    "    ps_df = playstore_apps_df.alias('ps')\n",
    "    apps_df = as_df.join(ps_df, col('as.app_name') == col('ps.title')) \\\n",
    "        .selectExpr(*cols).dropDuplicates()\n",
    "\n",
    "    # load data into S3\n",
    "    apps_df.write.mode('overwrite').parquet(\n",
    "        f'{output_path}/{DATA_PATH.APP}')\n",
    "\n",
    "    # construct time dimension table\n",
    "    cols = ['date',\n",
    "            'EXTRACT(DAY FROM date) AS day',\n",
    "            'EXTRACT(MONTH FROM date) AS month',\n",
    "            'EXTRACT(YEAR FROM date) AS year',\n",
    "            'EXTRACT(WEEK FROM date) AS week',\n",
    "            'WEEKDAY(date) AS weekday']\n",
    "\n",
    "    cvt_datetime_to_date_udf = udf(lambda dt: dt.split('T')[0])\n",
    "    time_df = appstore_apps_df.filter(col('released_ts').isNotNull()) \\\n",
    "        .withColumn('date', cvt_datetime_to_date_udf(col('released_ts')).cast(DateType())) \\\n",
    "        .selectExpr(*cols).filter(length(col('year')) == 4).dropDuplicates()\n",
    "\n",
    "    # load data into S3\n",
    "    time_df.write.mode('overwrite').parquet(\n",
    "        f'{output_path}/{DATA_PATH.TIME}')\n",
    "\n",
    "    # construct great_app fact table\n",
    "    cols = ['great_app_id',\n",
    "            'as.app_id AS appstore_app_id',\n",
    "            'developer_id',\n",
    "            'date AS released_date',\n",
    "            'ROUND((as.rating + ps.score) / 2, 2) AS rating',\n",
    "            'CASE WHEN as.rating > ps.score THEN TRUE ELSE FALSE END AS better_on_ios',\n",
    "            'EXTRACT(YEAR FROM date) AS year',\n",
    "            'EXTRACT(MONTH FROM date) AS month']\n",
    "\n",
    "    as_df = appstore_apps_df.alias('as')\n",
    "    ps_df = playstore_apps_df.alias('ps')\n",
    "    cvt_datetime_to_date_udf = udf(lambda dt: dt.split('T')[0])\n",
    "    great_apps_df = as_df.filter(col('released_ts').isNotNull() &\n",
    "                                 col('as.app_id').isNotNull() &\n",
    "                                 col('developer_id').isNotNull()) \\\n",
    "        .join(ps_df, col('as.app_name') == col('ps.title')) \\\n",
    "        .withColumn('date', cvt_datetime_to_date_udf(col('released_ts')).cast(DateType())) \\\n",
    "        .withColumn('great_app_id', monotonically_increasing_id()) \\\n",
    "        .selectExpr(*cols)\n",
    "\n",
    "    # load fact table data into S3\n",
    "    great_apps_df.write.mode('overwrite').parquet(\n",
    "        f'{output_path}/{DATA_PATH.GREAT_APP}')"
   ]
  },
  {
   "cell_type": "code",
   "execution_count": 189,
   "metadata": {
    "editable": true
   },
   "outputs": [],
   "source": [
    "process_app_data(spark, appstore_path, playstore_path, output_path)"
   ]
  },
  {
   "cell_type": "markdown",
   "metadata": {
    "editable": true,
    "tags": []
   },
   "source": [
    "#### 4.2 Data Quality Checks\n",
    "\n",
    " * Count of the output data row compare with source data must equal in the same condition\n",
    " * Output data must not empty\n",
    " * Primary key must not contain null value"
   ]
  },
  {
   "cell_type": "code",
   "execution_count": 165,
   "metadata": {
    "editable": true
   },
   "outputs": [
    {
     "name": "stdout",
     "output_type": "stream",
     "text": [
      "root\n",
      " |-- appstore_app_id: string (nullable = true)\n",
      " |-- playstore_app_id: string (nullable = true)\n",
      " |-- title: string (nullable = true)\n",
      " |-- genre: string (nullable = true)\n",
      " |-- content_rating: string (nullable = true)\n",
      " |-- size: string (nullable = true)\n",
      " |-- price: float (nullable = true)\n",
      " |-- currency: string (nullable = true)\n",
      " |-- free: boolean (nullable = true)\n",
      " |-- appstore_rating: float (nullable = true)\n",
      " |-- playstore_rating: float (nullable = true)\n",
      " |-- rating_count_on_ios: integer (nullable = true)\n",
      " |-- installs: string (nullable = true)\n",
      "\n"
     ]
    }
   ],
   "source": [
    "app_df = spark.read.parquet(f'{output_path}/{DATA_PATH.APP}')\n",
    "app_df.printSchema()"
   ]
  },
  {
   "cell_type": "code",
   "execution_count": 166,
   "metadata": {
    "editable": true
   },
   "outputs": [
    {
     "name": "stdout",
     "output_type": "stream",
     "text": [
      "root\n",
      " |-- developer_id: string (nullable = true)\n",
      " |-- name: string (nullable = true)\n",
      " |-- url: string (nullable = true)\n",
      " |-- website: string (nullable = true)\n",
      " |-- multi_platform: boolean (nullable = true)\n",
      "\n"
     ]
    }
   ],
   "source": [
    "developer_df = spark.read.parquet(f'{output_path}/{DATA_PATH.DEVELOPER}')\n",
    "developer_df.printSchema()"
   ]
  },
  {
   "cell_type": "code",
   "execution_count": 167,
   "metadata": {
    "editable": true
   },
   "outputs": [
    {
     "name": "stdout",
     "output_type": "stream",
     "text": [
      "root\n",
      " |-- date: date (nullable = true)\n",
      " |-- day: integer (nullable = true)\n",
      " |-- week: integer (nullable = true)\n",
      " |-- weekday: integer (nullable = true)\n",
      " |-- year: integer (nullable = true)\n",
      " |-- month: integer (nullable = true)\n",
      "\n"
     ]
    }
   ],
   "source": [
    "time_df = spark.read.parquet(f'{output_path}/{DATA_PATH.TIME}')\n",
    "time_df.printSchema()"
   ]
  },
  {
   "cell_type": "code",
   "execution_count": 168,
   "metadata": {
    "editable": true
   },
   "outputs": [
    {
     "name": "stdout",
     "output_type": "stream",
     "text": [
      "root\n",
      " |-- great_app_id: long (nullable = true)\n",
      " |-- appstore_app_id: string (nullable = true)\n",
      " |-- developer_id: string (nullable = true)\n",
      " |-- released_date: date (nullable = true)\n",
      " |-- installs: string (nullable = true)\n",
      " |-- rating: double (nullable = true)\n",
      " |-- better_on_ios: boolean (nullable = true)\n",
      " |-- year: integer (nullable = true)\n",
      " |-- month: integer (nullable = true)\n",
      "\n"
     ]
    }
   ],
   "source": [
    "great_app = spark.read.parquet(f'{output_path}/{DATA_PATH.GREAT_APP}')\n",
    "great_app.printSchema()"
   ]
  },
  {
   "cell_type": "markdown",
   "metadata": {
    "editable": true
   },
   "source": [
    "##### validate the tables must not empty"
   ]
  },
  {
   "cell_type": "code",
   "execution_count": 169,
   "metadata": {
    "editable": true
   },
   "outputs": [],
   "source": [
    "assert app_df.count() > 0, 'App table is empty'\n",
    "assert developer_df.count() > 0, 'Developer table is empty'\n",
    "assert time_df.count() > 0, 'Time table is empty'\n",
    "assert great_app.count() > 0, 'Great App table is empty'"
   ]
  },
  {
   "cell_type": "markdown",
   "metadata": {
    "editable": true,
    "tags": []
   },
   "source": [
    "##### recheck primary key is not null compare with source data"
   ]
  },
  {
   "cell_type": "code",
   "execution_count": 170,
   "metadata": {
    "editable": true
   },
   "outputs": [
    {
     "data": {
      "text/plain": [
       "True"
      ]
     },
     "execution_count": 170,
     "metadata": {},
     "output_type": "execute_result"
    }
   ],
   "source": [
    "app_df.filter(col('appstore_app_id').isNull() | col('playstore_app_id').isNull()).count() == 0"
   ]
  },
  {
   "cell_type": "markdown",
   "metadata": {
    "editable": true,
    "tags": []
   },
   "source": [
    "##### recheck primary key must not contains duplicate compare with source data"
   ]
  },
  {
   "cell_type": "code",
   "execution_count": 171,
   "metadata": {
    "editable": true
   },
   "outputs": [
    {
     "data": {
      "text/plain": [
       "True"
      ]
     },
     "execution_count": 171,
     "metadata": {},
     "output_type": "execute_result"
    }
   ],
   "source": [
    "developer_df.select('developer_id').count() == appstore_apps_df.select('developer_id').distinct().count()"
   ]
  },
  {
   "cell_type": "code",
   "execution_count": 172,
   "metadata": {
    "editable": true
   },
   "outputs": [
    {
     "data": {
      "text/plain": [
       "True"
      ]
     },
     "execution_count": 172,
     "metadata": {},
     "output_type": "execute_result"
    }
   ],
   "source": [
    "time_df.select('date').count() == appstore_apps_df.selectExpr('SUBSTRING(released_ts, 1, 10) AS date').distinct().count()"
   ]
  },
  {
   "cell_type": "markdown",
   "metadata": {
    "editable": true,
    "tags": []
   },
   "source": [
    "## 4.3 Data dictionary \n",
    "\n",
    "<h5><center>Great App Table</center></h5>\n",
    "\n",
    "| Data Item | Data Type | Data Format | Description | Example |\n",
    "| :- | -: | -: | -: | -: |\n",
    "| great_app_id | INT |  | Unique identifier for great_app table | 1 |\n",
    "| appstore_app_id | STRING |  | Unique identifier for app table | com.ewa.ewaapp |\n",
    "| developer_id | STRING |  | Unique identifier for developer table | 1126354429 |\n",
    "| released_date | DATE | YYYY-mm-DD | Released date of the app | 2019-06-12 |\n",
    "| rating | FLOAT | N.NN | Average Sum of rating from AppStore and PlayStore <br/> (appstore.rating + playstore.rating) / 2 | 4.66 |\n",
    "| better_on_ios | BOOLEAN | True/False | Represent AppStore has higher rating than PlayStore | True |\n",
    "\n",
    "<br/>\n",
    "<h5><center>App Table</center></h5>\n",
    "\n",
    "| Data Item | Data Type | Data Format | Description | Example |\n",
    "| :- | -: | -: | -: | -: |\n",
    "| appstore_app_id | STRING |  | Unique identifier for app that comes from AppStore | org.axis360.axis360 |\n",
    "| playstore_app_id | STRING |  | Unique identifier for app that comes from PlayStore | com.robtopx.geometryjump |\n",
    "| title | STRING |  | Name of the app | LandGlide |\n",
    "| genre | STRING |  | Genre of the app | Business |\n",
    "| content_rating | STRING |  | Rating of the content (Age restriction) | Everyone |\n",
    "| size | STRING |  | Size of the app in bytes | 13135872 |\n",
    "| price | FLOAT | N.NN | Price of the app | 0.00 |\n",
    "| currency | STRING |  | Currency of the price | USD |\n",
    "| free | BOOLEAN | True/False | Represent free/paid app | True |\n",
    "| appstore_rating | FLOAT |  | Rating of the app from AppStore | 4.8041 |\n",
    "| playstore_rating | FLOAT |  | Rating of the app from PlayStore | 4.678029 |\n",
    "| rating_count_on_ios | INT |  | Number of voter from AppStore | 46823 |\n",
    "| installs | STRING |  | Number of installers that gather from PlayStore <br/> (AppStore does not display this value) | 50,000+ |\n",
    "\n",
    "<br/>\n",
    "<h5><center>Developer Table</center></h5>\n",
    "\n",
    "| Data Item | Data Type | Data Format | Description | Example |\n",
    "| :- | -: | -: | -: | -: |\n",
    "| developer_id | STRING |  | Unique identifier for developer table | 409863343 |\n",
    "| name | STRING |  | Name of the developer | American Academy of Pediatrics |\n",
    "| url | STRING |  | Apple developer identifier url | https://apps.apple.com/us/developer/american-academy-of-pediatrics/id409863343?uo=4 |\n",
    "| website | STRING |  | Website of the developer | http://ebooks.aap.org |\n",
    "| multi_platform | BOOLEAN | True/False | Represent the developer develop application <br/> on both AppStore and PlayStore | False |\n",
    "\n",
    "<br/>\n",
    "<h5><center>Time Table</center></h5>\n",
    "\n",
    "| Data Item | Data Type | Data Format | Description | Example |\n",
    "| :- | -: | -: | -: | -: |\n",
    "| date | DATE |  | Unique identifier for time table that gather from released_date of apps | 2021-08-04 |\n",
    "| day | INT |  | Day of the date | 4 |\n",
    "| month | INT |  | Month of the date | 8 |\n",
    "| year | INT |  | Year of the date | 2021 |\n",
    "| week | INT |  | Week of the date (count for the whole year) | 31 |\n",
    "| weekday | INT | 0-6 | Represent weekday (0 = Monday, 6 = Sunday) | 2 |"
   ]
  },
  {
   "cell_type": "markdown",
   "metadata": {
    "editable": true,
    "tags": []
   },
   "source": [
    "### Step 5: Complete Project Write Up"
   ]
  },
  {
   "cell_type": "markdown",
   "metadata": {
    "editable": true
   },
   "source": [
    "* Tools & Technologies: <br/>\n",
    "  * S3 for Storage <br/>\n",
    "&emsp; Highly available and unlimited storage choice on AWS\n",
    "  * EMR for ETL <br/>\n",
    "&emsp; Map reduce cluster on AWS that provide Spark framework also lower cost than Glue with trade-off scalability but in our case, this is suffice for processing amount of data we have.\n",
    "  * Glue Data Catalog And Athena <br/>\n",
    "&emsp; Instead of Provision Data Warehouse like Redshift compare to the storage we use and number of query. <br/>\n",
    "&emsp; This one is optimal solution because you don't need to pay cost per hour for instance(s). <br/> \n",
    "&emsp; If you still need Data Warehouse after this, you can copy data from staging S3 bucket into your Data Warehouse. (optional) <br/>\n",
    "&emsp; For reduce manual work, you can use service like Glue Crawler for automated create table and metadata from S3 path.\n",
    "  * FastAPI <br/>\n",
    "&emsp; Easy to use that comes with uvicorn (more reliable than built-in Flask WSGI), less overhead than Flask. use for host PlayStore scraper API.\n",
    "  * Docker <br/>\n",
    "&emsp; Portable environment, when development on local environment without paying extra money."
   ]
  },
  {
   "cell_type": "markdown",
   "metadata": {
    "editable": true
   },
   "source": [
    "* When data should update? <br/>\n",
    "&emsp; Base on this [report](https://mindsea.com/app-stats/#:~:text=On%20average%2C%20about%2070%2C000%20new,Google%20Play%20Store%20every%20month), the data should update at least for every months because the amount of new app per month is not that much and <br/> if we only consider popular app we can update the data for extended time frame like 6-month."
   ]
  },
  {
   "cell_type": "markdown",
   "metadata": {
    "editable": true
   },
   "source": [
    "* Scenarios\n",
    "  * The data was increased by 100x. <br/>\n",
    "&emsp; We can increase partition by repartition, this will help better distribute tasks and also we must scale out EMR node in the cluster to handle more task but must be wary of overhead to spinning more executors.\n",
    "  * The data populates a dashboard that must be updated on a daily basis by 7am every day. <br/>\n",
    "&emsp; For loading data, we can use airflow to schedule job or simply cron job with cron expression `(0 7 * * *)` to gather data from API/S3 bucket and put it to another bucket (raw data before ETL) and some trigger ETL job after that using airflow or if you use custom solution, you may need to use SDK to spawn EMR job step with python script that put into S3\n",
    "  * The database needed to be accessed by 100+ people. <br/>\n",
    "&emsp; For the solution I chose, serverless can handle any number of connection because it is managed service and everyone can query data out-of-the-box. <br/>\n",
    "&emsp; If the data warehouse/database need to handle amount of that number for RDS, there is a parameter group that can restrict number of connections or you can try scale out your database instance if your database engine support read replica."
   ]
  }
 ],
 "metadata": {
  "kernelspec": {
   "display_name": "Python 3 (ipykernel)",
   "language": "python",
   "name": "python3"
  },
  "language_info": {
   "codemirror_mode": {
    "name": "ipython",
    "version": 3
   },
   "file_extension": ".py",
   "mimetype": "text/x-python",
   "name": "python",
   "nbconvert_exporter": "python",
   "pygments_lexer": "ipython3",
   "version": "3.10.8"
  }
 },
 "nbformat": 4,
 "nbformat_minor": 4
}
